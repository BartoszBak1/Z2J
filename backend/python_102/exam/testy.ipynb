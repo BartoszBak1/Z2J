{
 "cells": [
  {
   "cell_type": "code",
   "execution_count": 1,
   "metadata": {},
   "outputs": [],
   "source": [
    "from objects import Hero, Villain, Items\n",
    "import random\n",
    "import pathlib\n",
    "import pathlib\n",
    "from game_functions import *"
   ]
  },
  {
   "cell_type": "code",
   "execution_count": 11,
   "metadata": {},
   "outputs": [
    {
     "name": "stdout",
     "output_type": "stream",
     "text": [
      "sword, strength: 3.0\n",
      "shield, strength: 2.0\n",
      "boosting elixir, strength: 3.0\n",
      "poison elixir, strength: -3.0\n"
     ]
    }
   ],
   "source": [
    "path = pathlib.Path(\"d:/Projects/zero_to_junior/backend/python_102/exam/item_descriptions.csv\")\n",
    "items_description = load_csv_file_to_dict(path)\n",
    "\n",
    "for key, values in items_description.items():\n",
    "    print(f\"{key}, strength: {values['strength']}\")\n",
    "    "
   ]
  },
  {
   "cell_type": "code",
   "execution_count": 12,
   "metadata": {},
   "outputs": [
    {
     "data": {
      "text/plain": [
       "{'sword': {'strength': 3.0,\n",
       "  'probability': 0.2,\n",
       "  'description': 'Sword adds you three points of strength.'},\n",
       " 'shield': {'strength': 2.0,\n",
       "  'probability': 0.3,\n",
       "  'description': 'Shield adds you 2 points of strength.'},\n",
       " 'boosting elixir': {'strength': 3.0,\n",
       "  'probability': 0.2,\n",
       "  'description': 'If you use boosting elixir your strength will increase by 3 point in current battle.'},\n",
       " 'poison elixir': {'strength': -3.0,\n",
       "  'probability': 0.2,\n",
       "  'description': \"If you use poison elixir your enemy's strength will decrease by 3 point in current battle.\"}}"
      ]
     },
     "execution_count": 12,
     "metadata": {},
     "output_type": "execute_result"
    }
   ],
   "source": [
    "items_description"
   ]
  },
  {
   "cell_type": "code",
   "execution_count": 14,
   "metadata": {},
   "outputs": [],
   "source": [
    "items_dict = {\"sword\": Items(\"sword\", items_description[\"sword\"]['strength']),\n",
    "             \"shield\": Items(\"shield\", items_description[\"sword\"]['strength']),\n",
    "             \"boosting_elixir\": Items(\"boosting elixir\", items_description[\"sword\"]['strength']),\n",
    "             \"poisonous_elixir\": Items(\"poisonous elixir\", items_description[\"sword\"]['strength']),          \n",
    "            }"
   ]
  },
  {
   "cell_type": "code",
   "execution_count": 15,
   "metadata": {},
   "outputs": [
    {
     "data": {
      "text/plain": [
       "{'sword': <objects.Items at 0x1d59d1f3910>,\n",
       " 'shield': <objects.Items at 0x1d59d1f3cd0>,\n",
       " 'boosting elixir': <objects.Items at 0x1d59d1f35b0>,\n",
       " 'poison elixir': <objects.Items at 0x1d59aed20a0>}"
      ]
     },
     "execution_count": 15,
     "metadata": {},
     "output_type": "execute_result"
    }
   ],
   "source": [
    "items_dict = {}\n",
    "for key, values in items_description.items():\n",
    "    items_dict[key] = Items(key , items_description[key]['strength']) \n",
    "\n",
    "items_dict  "
   ]
  },
  {
   "cell_type": "code",
   "execution_count": 18,
   "metadata": {},
   "outputs": [
    {
     "data": {
      "text/plain": [
       "'shield'"
      ]
     },
     "execution_count": 18,
     "metadata": {},
     "output_type": "execute_result"
    }
   ],
   "source": [
    "items_dict['shield'].name"
   ]
  },
  {
   "cell_type": "code",
   "execution_count": 2,
   "metadata": {},
   "outputs": [
    {
     "ename": "NameError",
     "evalue": "name 'villain_1' is not defined",
     "output_type": "error",
     "traceback": [
      "\u001b[1;31m---------------------------------------------------------------------------\u001b[0m",
      "\u001b[1;31mNameError\u001b[0m                                 Traceback (most recent call last)",
      "Cell \u001b[1;32mIn[2], line 1\u001b[0m\n\u001b[1;32m----> 1\u001b[0m \u001b[39mfor\u001b[39;00m villain, name, strength \u001b[39min\u001b[39;00m \u001b[39mzip\u001b[39m([villain_1, villain_2, villain_3], [\u001b[39m'\u001b[39m\u001b[39mv1\u001b[39m\u001b[39m'\u001b[39m, \u001b[39m'\u001b[39m\u001b[39mv2\u001b[39m\u001b[39m'\u001b[39m, \u001b[39m'\u001b[39m\u001b[39mv3\u001b[39m\u001b[39m'\u001b[39m], [\u001b[39m3\u001b[39m, \u001b[39m5\u001b[39m, \u001b[39m10\u001b[39m]):\n\u001b[0;32m      2\u001b[0m     villain \u001b[39m=\u001b[39m Villain(name, strength)\n",
      "\u001b[1;31mNameError\u001b[0m: name 'villain_1' is not defined"
     ]
    }
   ],
   "source": [
    "for villain, name, strength in zip([villain_1, villain_2, villain_3], ['v1', 'v2', 'v3'], [3, 5, 10]):\n",
    "    villain = Villain(name, strength)"
   ]
  },
  {
   "cell_type": "code",
   "execution_count": 2,
   "metadata": {},
   "outputs": [
    {
     "name": "stdout",
     "output_type": "stream",
     "text": [
      "no b\n"
     ]
    }
   ],
   "source": [
    "d = {'a': 1}\n",
    "try:\n",
    "    d['b']\n",
    "except KeyError:\n",
    "    print(\"no b\")"
   ]
  },
  {
   "cell_type": "code",
   "execution_count": null,
   "metadata": {},
   "outputs": [],
   "source": []
  }
 ],
 "metadata": {
  "kernelspec": {
   "display_name": "Python 3",
   "language": "python",
   "name": "python3"
  },
  "language_info": {
   "codemirror_mode": {
    "name": "ipython",
    "version": 3
   },
   "file_extension": ".py",
   "mimetype": "text/x-python",
   "name": "python",
   "nbconvert_exporter": "python",
   "pygments_lexer": "ipython3",
   "version": "3.9.2"
  },
  "orig_nbformat": 4
 },
 "nbformat": 4,
 "nbformat_minor": 2
}
