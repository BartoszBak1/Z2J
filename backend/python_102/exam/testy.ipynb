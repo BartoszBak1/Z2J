{
 "cells": [
  {
   "cell_type": "code",
   "execution_count": 16,
   "metadata": {},
   "outputs": [],
   "source": [
    "from objects import Hero, Villain, Items\n",
    "import random\n",
    "import pathlib\n",
    "import pathlib\n",
    "from game_functions import *\n",
    "\n",
    "# path = pathlib.Path.cwd() / \"backend\" / \"python_102\" / \"exam\" / \"item_descriptions.csv\"\n",
    "# path = 'd:/Projects/zero_to_junior/backend/python_102/exam/backend/python_102/exam/item_descriptions.csv'\n",
    "items_description = {'sword': {'strength': 3.0, 'probability': 0.2, 'description': 'Sword adds you 3 points of strength.'}, 'shield': {'strength': 2.0, 'probability': 0.3, 'description': 'Shield adds you 2 points of strength.'}, 'boosting elixir': {'strength': 3.0, 'probability': 0.2, 'description': 'If you use boosting elixir your strength will increase by 3 point in current battle.'}, 'poisonous elixir': {'strength': -3.0, 'probability': 0.2, 'description': \"If you use poison elixir your enemy's strength will decrease by 3 point in current battle.\"}}\n",
    "# print(items_description)\n",
    "\n",
    "\n",
    "def get_events_probabilities(items_description):\n",
    "\n",
    "    events_probabilities = {}\n",
    "    for name in items_description:\n",
    "        events_probabilities[name] = items_description[name]['probability']\n",
    "    events_probabilities['villain'] = 0.2\n",
    "\n",
    "    return events_probabilities\n",
    "\n",
    "def draw_event(events_probabilities):\n",
    "    events = list(events_probabilities.keys())\n",
    "    probabilities = list(events_probabilities.values())\n",
    "\n",
    "    event = random.choices(events, probabilities, k=1)[0]\n",
    "    if event != \"villain\":\n",
    "        del events_probabilities[event] \n",
    "    return event, events_probabilities"
   ]
  },
  {
   "cell_type": "code",
   "execution_count": 17,
   "metadata": {},
   "outputs": [
    {
     "name": "stdout",
     "output_type": "stream",
     "text": [
      "sword\n",
      "{'shield': 0.3, 'boosting elixir': 0.2, 'poisonous elixir': 0.2, 'villain': 0.2}\n"
     ]
    }
   ],
   "source": [
    "events_probabilities = get_events_probabilities(items_description)\n",
    "event, events_probabilities =  draw_event(events_probabilities)\n",
    "print(event)\n",
    "print(events_probabilities)"
   ]
  },
  {
   "cell_type": "code",
   "execution_count": 18,
   "metadata": {},
   "outputs": [
    {
     "name": "stdout",
     "output_type": "stream",
     "text": [
      "boosting elixir\n",
      "{'shield': 0.3, 'poisonous elixir': 0.2, 'villain': 0.2}\n"
     ]
    }
   ],
   "source": [
    "event, events_probabilities =  draw_event(events_probabilities)\n",
    "print(event)\n",
    "print(events_probabilities)"
   ]
  },
  {
   "cell_type": "code",
   "execution_count": null,
   "metadata": {},
   "outputs": [],
   "source": []
  }
 ],
 "metadata": {
  "kernelspec": {
   "display_name": "Python 3",
   "language": "python",
   "name": "python3"
  },
  "language_info": {
   "codemirror_mode": {
    "name": "ipython",
    "version": 3
   },
   "file_extension": ".py",
   "mimetype": "text/x-python",
   "name": "python",
   "nbconvert_exporter": "python",
   "pygments_lexer": "ipython3",
   "version": "3.9.2"
  },
  "orig_nbformat": 4
 },
 "nbformat": 4,
 "nbformat_minor": 2
}
